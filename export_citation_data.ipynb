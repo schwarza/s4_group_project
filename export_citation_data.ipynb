{
 "cells": [
  {
   "cell_type": "code",
   "execution_count": null,
   "id": "214217db",
   "metadata": {},
   "outputs": [],
   "source": [
    "import pandas as pd"
   ]
  },
  {
   "cell_type": "code",
   "execution_count": null,
   "id": "7bd42617",
   "metadata": {},
   "outputs": [],
   "source": [
    "#load data\n",
    "a = pd.read_csv('~/datasets/s4/MENTORSHIP/authorship.csv')\n",
    "pids_sample  = pd.read_csv('pids_sample_v1.csv')"
   ]
  },
  {
   "cell_type": "code",
   "execution_count": null,
   "id": "8fd1dd1f",
   "metadata": {},
   "outputs": [],
   "source": [
    "#get list of papers for which we need to calculate citation count\n",
    "a = a.merge(pids_sample, on='PID', how='inner')\n",
    "magids = a['MAGPaperID'].unique()"
   ]
  },
  {
   "cell_type": "code",
   "execution_count": null,
   "id": "82d0d8c6",
   "metadata": {},
   "outputs": [],
   "source": [
    "#filter 'PaperReferences.txt' for citations to papers in sample\n",
    "\n",
    "refs = []\n",
    "\n",
    "ll = 0\n",
    "chunksize = 1000\n",
    "mag_ref_file = '~/datasets/s4/MAG/PaperReferences.txt'\n",
    "\n",
    "for d in (pd.read_csv(mag_ref_file, sep='\\t', header=None, chunksize=chunksize)):\n",
    "    ll += 1\n",
    "    print(f'\\rprocessing {mag_ref_file} chunk {ll}', end='')\n",
    "    d.columns = ['PaperId','PaperReferenceId']\n",
    "    in_sample = d.loc[d['PaperReferenceId'].isin(magids)]\n",
    "    refs.append(in_sample)\n",
    "\n",
    "refs = pd.concat(refs)"
   ]
  },
  {
   "cell_type": "code",
   "execution_count": null,
   "id": "78621ac3",
   "metadata": {},
   "outputs": [],
   "source": [
    "#filter 'Papers.txt' for papers that cite those those in sample, only keep publication year\n",
    "refids = refs['PaperId'].unique()\n",
    "\n",
    "# header_df = pd.read_csv('~/datasets/s4/MAG/Papers.csv')\n",
    "# header = header_df.columns.values.tolist() + ['FamilyID', 'FamilyRank', 'CreatedDate']\n",
    "\n",
    "ref_years = []\n",
    "\n",
    "ll = 0\n",
    "chunksize = 1000\n",
    "mag_pub_file = '~/datasets/s4/MAG/Papers.txt'\n",
    "\n",
    "for d in (pd.read_csv(mag_pub_file, sep='\\t', header=None, usecols=[0,7], chunksize=chunksize)):\n",
    "    ll += 1\n",
    "    print(f'\\rprocessing {mag_pub_file} chunk {ll}', end='')\n",
    "    d.columns = ['PaperId','Year']\n",
    "    in_sample = d.loc[d['PaperId'].isin(refids)]\n",
    "    ref_years.append(in_sample)"
   ]
  },
  {
   "cell_type": "code",
   "execution_count": null,
   "id": "30543fb5",
   "metadata": {},
   "outputs": [],
   "source": [
    "#merge data\n",
    "d = pd.merge(refs, ref_years, left_on='PaperReferenceId', right_on='PaperId')"
   ]
  },
  {
   "cell_type": "code",
   "execution_count": null,
   "id": "6aa4bd88",
   "metadata": {},
   "outputs": [],
   "source": [
    "d.to_hdf('citation_v1.hd5', key='citation', complevel=9)"
   ]
  }
 ],
 "metadata": {
  "kernelspec": {
   "display_name": "Python 3",
   "language": "python",
   "name": "python3"
  },
  "language_info": {
   "codemirror_mode": {
    "name": "ipython",
    "version": 3
   },
   "file_extension": ".py",
   "mimetype": "text/x-python",
   "name": "python",
   "nbconvert_exporter": "python",
   "pygments_lexer": "ipython3",
   "version": "3.8.8"
  },
  "latex_envs": {
   "LaTeX_envs_menu_present": true,
   "autoclose": false,
   "autocomplete": true,
   "bibliofile": "biblio.bib",
   "cite_by": "apalike",
   "current_citInitial": 1,
   "eqLabelWithNumbers": true,
   "eqNumInitial": 1,
   "hotkeys": {
    "equation": "Ctrl-E",
    "itemize": "Ctrl-I"
   },
   "labels_anchors": false,
   "latex_user_defs": false,
   "report_style_numbering": false,
   "user_envs_cfg": false
  },
  "toc": {
   "base_numbering": 1,
   "nav_menu": {},
   "number_sections": true,
   "sideBar": true,
   "skip_h1_title": false,
   "title_cell": "Table of Contents",
   "title_sidebar": "Contents",
   "toc_cell": false,
   "toc_position": {},
   "toc_section_display": true,
   "toc_window_display": false
  }
 },
 "nbformat": 4,
 "nbformat_minor": 5
}

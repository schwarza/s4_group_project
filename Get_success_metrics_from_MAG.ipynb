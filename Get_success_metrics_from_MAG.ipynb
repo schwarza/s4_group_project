{
 "cells": [
  {
   "cell_type": "code",
   "execution_count": 1,
   "id": "8aed1371",
   "metadata": {},
   "outputs": [],
   "source": [
    "import matplotlib.pyplot as plt\n",
    "import pandas as pd\n",
    "import numpy as np\n",
    "from seaborn import lineplot,color_palette\n",
    "import pickle"
   ]
  },
  {
   "cell_type": "code",
   "execution_count": 2,
   "id": "719470eb",
   "metadata": {},
   "outputs": [],
   "source": [
    "#load data\n",
    "PaperCitation=pd.read_csv('~/datasets/s4/MAG/PaperCitation.csv')\n",
    "Papers=pd.read_csv('~/datasets/s4/MAG/Papers.csv')\n",
    "PaperAuthor=pd.read_csv('~/datasets/s4/MAG/PaperAuthorAffiliations.csv')"
   ]
  },
  {
   "cell_type": "code",
   "execution_count": 3,
   "id": "01f56893",
   "metadata": {},
   "outputs": [],
   "source": [
    "Papers_Year=Papers[['PaperId','Year']]\n",
    "PaperCitationMerge=PaperCitation.merge(Papers,left_on=['PaperId'],right_on=['PaperId'])\n",
    "\n",
    "#this is to get the number of authors of a paper, in case we need to filter publications by corresponding authors\n",
    "Papers_AuthorNum=PaperAuthor[['PaperId','AuthorSequence']]\n",
    "Papers_AuthorNum=Papers_AuthorNum.groupby('PaperId').max()\n",
    "\n",
    "PaperAuthor=PaperAuthor[['AuthorId','PaperId']]"
   ]
  },
  {
   "cell_type": "code",
   "execution_count": 4,
   "id": "05a40c11",
   "metadata": {},
   "outputs": [],
   "source": [
    "def getPaperCitation(PaperId,Span):\n",
    "    PaperInfor=Papers.loc[Papers['PaperId'] == PaperId]\n",
    "    Time_window_start=PaperInfor['Year'].values[0]\n",
    "    Time_window_end=Time_window_start+Span\n",
    "    Relevant_Papers=PaperCitationMerge.loc[PaperCitationMerge['PaperReferenceId']==PaperId]\n",
    "    Relevant_Papers=Relevant_Papers.loc[(Relevant_Papers['Year']>Time_window_start)&(Relevant_Papers['Year']<=Time_window_end)]\n",
    "    Citation_history=Relevant_Papers['Year'].values\n",
    "    CitationCount=len(Citation_history)\n",
    "    return(CitationCount)"
   ]
  },
  {
   "cell_type": "code",
   "execution_count": 5,
   "id": "7ca074c1",
   "metadata": {},
   "outputs": [
    {
     "data": {
      "text/plain": [
       "1"
      ]
     },
     "execution_count": 5,
     "metadata": {},
     "output_type": "execute_result"
    }
   ],
   "source": [
    "getPaperCitation(10599529,20)"
   ]
  }
 ],
 "metadata": {
  "kernelspec": {
   "display_name": "Python 3",
   "language": "python",
   "name": "python3"
  },
  "language_info": {
   "codemirror_mode": {
    "name": "ipython",
    "version": 3
   },
   "file_extension": ".py",
   "mimetype": "text/x-python",
   "name": "python",
   "nbconvert_exporter": "python",
   "pygments_lexer": "ipython3",
   "version": "3.8.8"
  },
  "latex_envs": {
   "LaTeX_envs_menu_present": true,
   "autoclose": false,
   "autocomplete": true,
   "bibliofile": "biblio.bib",
   "cite_by": "apalike",
   "current_citInitial": 1,
   "eqLabelWithNumbers": true,
   "eqNumInitial": 1,
   "hotkeys": {
    "equation": "Ctrl-E",
    "itemize": "Ctrl-I"
   },
   "labels_anchors": false,
   "latex_user_defs": false,
   "report_style_numbering": false,
   "user_envs_cfg": false
  },
  "toc": {
   "base_numbering": 1,
   "nav_menu": {},
   "number_sections": true,
   "sideBar": true,
   "skip_h1_title": false,
   "title_cell": "Table of Contents",
   "title_sidebar": "Contents",
   "toc_cell": false,
   "toc_position": {},
   "toc_section_display": true,
   "toc_window_display": false
  }
 },
 "nbformat": 4,
 "nbformat_minor": 5
}
